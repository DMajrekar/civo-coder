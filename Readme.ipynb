{
 "cells": [
  {
   "cell_type": "markdown",
   "metadata": {},
   "source": [
    "# Coder Civo Deployment\n",
    "\n",
    "[Coder](https://coder.com) is a cloud based IDE that allows you to develop in the cloud.  This deployment will create deploy the Coder application to a Civo Kubernetes cluster using terraform and helm. Once up and running you will be able to access the Coder application and start your cloud based coding adventure!\n",
    "\n",
    "As part of this deployment, we'll be deploying:\n",
    "\n",
    "- Civo Managed Database\n",
    "- Civo Managed Kubernetes Cluster (based on the security focused Talos OS)\n",
    "- Coder (https://coder.com/docs/v2/latest/install/kubernetes)\n",
    "- Cert Manager (https://cert-manager.io/docs/installation/helm/)\n",
    "- External DNS"
   ]
  },
  {
   "cell_type": "markdown",
   "metadata": {},
   "source": [
    "# Civo Account\n",
    "\n",
    "You can sign up for a civo account at www.civo.com, where new users will get a free $250 credit for a month. That is more than enough for this demo and for trying out the other Civo services.\n",
    "\n",
    "Once signed in, you will need your API key from https://dashboard.civo.com/security."
   ]
  },
  {
   "cell_type": "markdown",
   "metadata": {},
   "source": [
    "# Terraform\n",
    "\n",
    "[Terraform](https://www.terraform.io/) is a tool for building, changing, and versioning infrastructure safely and efficiently. We'll be using this to deploy the various Civo resources:\n"
   ]
  },
  {
   "cell_type": "code",
   "execution_count": null,
   "metadata": {},
   "outputs": [],
   "source": [
    "%%bash\n",
    "sudo apt-get update && sudo apt-get install -y gnupg software-properties-common\n",
    "wget -O- https://apt.releases.hashicorp.com/gpg | gpg --dearmor | sudo tee /usr/share/keyrings/hashicorp-archive-keyring.gpg\n",
    "gpg --no-default-keyring --keyring /usr/share/keyrings/hashicorp-archive-keyring.gpg --fingerprint\n",
    "echo \"deb [signed-by=/usr/share/keyrings/hashicorp-archive-keyring.gpg] \\\n",
    "https://apt.releases.hashicorp.com $(lsb_release -cs) main\" | \\\n",
    "sudo tee /etc/apt/sources.list.d/hashicorp.list\n",
    "sudo apt update\n",
    "sudo apt-get install terraform"
   ]
  },
  {
   "cell_type": "markdown",
   "metadata": {},
   "source": [
    "# Terraform Variables"
   ]
  },
  {
   "cell_type": "markdown",
   "metadata": {},
   "source": [
    "Create a file called `terraform.tfvars` and add the following variables:\n",
    "\n",
    "```hcl\n",
    "civo_token = \"YOUR_API_KEY\"\n",
    "domain = \"YOUR_DOMAIN\"\n",
    "```"
   ]
  },
  {
   "cell_type": "markdown",
   "metadata": {},
   "source": [
    "# Provision Infra"
   ]
  },
  {
   "cell_type": "code",
   "execution_count": null,
   "metadata": {},
   "outputs": [],
   "source": [
    "%%bash\n",
    "terraform init -upgrade"
   ]
  },
  {
   "cell_type": "markdown",
   "metadata": {},
   "source": [
    "Create a network for all resources to be deployed within."
   ]
  },
  {
   "cell_type": "code",
   "execution_count": null,
   "metadata": {},
   "outputs": [],
   "source": [
    "%%bash\n",
    "terraform apply -target civo_network.network -auto-approve"
   ]
  },
  {
   "cell_type": "markdown",
   "metadata": {},
   "source": [
    "Next create the managed database and it's firewall."
   ]
  },
  {
   "cell_type": "code",
   "execution_count": null,
   "metadata": {},
   "outputs": [],
   "source": [
    "%%bash\n",
    "terraform apply -target civo_database.coder_database -target civo_firewall.database_firewall -auto-approve"
   ]
  },
  {
   "cell_type": "markdown",
   "metadata": {},
   "source": [
    "Now that the database has been created, let's create a database and the user for coder to use."
   ]
  },
  {
   "cell_type": "code",
   "execution_count": null,
   "metadata": {},
   "outputs": [],
   "source": [
    "%%bash\n",
    "terraform apply \\\n",
    "    -target random_password.password \\\n",
    "    -target postgresql_database.coder-database \\\n",
    "    -target postgresql_role.coder \\\n",
    "    -target postgresql_grant.coder \\\n",
    "    -auto-approve"
   ]
  },
  {
   "cell_type": "markdown",
   "metadata": {},
   "source": [
    "Now the database is set up, we can create the k8s cluster that coder will run on."
   ]
  },
  {
   "cell_type": "code",
   "execution_count": null,
   "metadata": {},
   "outputs": [],
   "source": [
    "%%bash\n",
    "terraform apply -auto-approve \\\n",
    "    -target civo_firewall.kube-firewall \\\n",
    "    -target civo_kubernetes_cluster.cluster "
   ]
  },
  {
   "cell_type": "markdown",
   "metadata": {},
   "source": [
    "For local debug, we can output the kubeconfig to a file:"
   ]
  },
  {
   "cell_type": "code",
   "execution_count": null,
   "metadata": {},
   "outputs": [],
   "source": [
    "%%bash\n",
    "terraform apply -auto-approve \\\n",
    "    -target local_file.kubeconfig "
   ]
  },
  {
   "cell_type": "markdown",
   "metadata": {},
   "source": [
    "and we can list the nodes in the cluster:"
   ]
  },
  {
   "cell_type": "code",
   "execution_count": null,
   "metadata": {},
   "outputs": [],
   "source": [
    "%%bash\n",
    "KUBECONFIG=./kubeconfig kubectl get nodes"
   ]
  },
  {
   "cell_type": "markdown",
   "metadata": {},
   "source": [
    "# Cluster Applications"
   ]
  },
  {
   "cell_type": "markdown",
   "metadata": {},
   "source": [
    "## Cert Manager\n",
    "\n",
    "We're installing Cert Manager from helm and installing the CRDs using the helm chart. This shoould not be used for a production deployment when the CRDs should be installed separately."
   ]
  },
  {
   "cell_type": "code",
   "execution_count": null,
   "metadata": {},
   "outputs": [],
   "source": [
    "%%bash\n",
    "terraform apply -auto-approve \\\n",
    "    -target helm_release.cert-manager \\\n",
    "    -target kubernetes_manifest.letsencrypt-prod"
   ]
  },
  {
   "cell_type": "markdown",
   "metadata": {},
   "source": [
    "# Nginx Ingress Controller\n",
    "\n",
    "This controls traffic ingressing into the cluster. It uses a the `nginx-ingress` helm chart, and a custom annotation of the dedicated CivoFirewall to controll access to applications. This allows us to lock down access at a firewall level, however we could leave this open and haev Nginx control access. To allow for this, we set up `proxy_pass` so that the correct source IP is passed through from the original client.\n",
    "\n",
    "While we can use External DNS to set a dynamically changing IP address, we may want to ensure a static IP for any future upgrades. As such, we use a Civo Reserved IP address for the ingress to use.\n"
   ]
  },
  {
   "cell_type": "code",
   "execution_count": null,
   "metadata": {},
   "outputs": [],
   "source": [
    "%%bash\n",
    "terraform apply -auto-approve \\\n",
    "    -target helm_release.ingress-nginx \\\n",
    "    -target civo_firewall.ingress-nginx \\\n",
    "    -target civo_reserved_ip.ingress-nginx"
   ]
  },
  {
   "cell_type": "markdown",
   "metadata": {},
   "source": [
    "# External DNS\n",
    "\n",
    "External DNS will look for ingress resources and create DNS records for them. We'll be using the `external-dns` helm chart to do this, with a domain pre-registered within Civo."
   ]
  },
  {
   "cell_type": "code",
   "execution_count": null,
   "metadata": {},
   "outputs": [],
   "source": [
    "%%bash\n",
    "terraform apply -auto-approve \\\n",
    "    -target helm_release.external-dns \\\n",
    "    -target kubernetes_namespace.external-dns \\\n",
    "    -target kubernetes_secret.external-dns-secrets"
   ]
  },
  {
   "cell_type": "markdown",
   "metadata": {},
   "source": [
    "## Coder\n",
    "\n",
    "We're installing coder from the upstream helm chart. With the following customisations via the help values file:\n",
    "\n",
    "- `coder.service.type = ClusterIP` as we're using the nginx ingress controller to expose the service\n",
    "- `coder.env[].name = CODER_PG_CONNECTION_URL` and `valueFrom` to set the secret to read the DB creds from.\n",
    "- `coder.ingress.enabled = true` to expose the service via the ingress controller\n",
    "- `coder.ingress.host` is set to coder.`<domain>` to expose the service via the ingress controller"
   ]
  },
  {
   "cell_type": "code",
   "execution_count": null,
   "metadata": {},
   "outputs": [],
   "source": [
    "%%bash\n",
    "terraform apply -auto-approve \\\n",
    "    -target kubernetes_namespace.coder \\\n",
    "    -target kubernetes_secret.coder_db \\\n",
    "    -target helm_release.coder"
   ]
  }
 ],
 "metadata": {
  "kernelspec": {
   "display_name": "Python 3",
   "language": "python",
   "name": "python3"
  },
  "language_info": {
   "codemirror_mode": {
    "name": "ipython",
    "version": 3
   },
   "file_extension": ".py",
   "mimetype": "text/x-python",
   "name": "python",
   "nbconvert_exporter": "python",
   "pygments_lexer": "ipython3",
   "version": "3.11.4"
  }
 },
 "nbformat": 4,
 "nbformat_minor": 2
}
